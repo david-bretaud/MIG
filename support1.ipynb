{
 "metadata": {
  "language_info": {
   "codemirror_mode": {
    "name": "ipython",
    "version": 3
   },
   "file_extension": ".py",
   "mimetype": "text/x-python",
   "name": "python",
   "nbconvert_exporter": "python",
   "pygments_lexer": "ipython3",
   "version": 3
  },
  "orig_nbformat": 2
 },
 "nbformat": 4,
 "nbformat_minor": 2,
 "cells": [
  {
   "source": [
    "# MIG ALEF : Mobilités électrique\n",
    "---\n",
    "# Groupe 1 : Véhicule _ Calcul du TCO et des impacts environnementaux d'une voiture\n",
    "## Antoine, David, Paul, Quentin, Raphaël, Pedro et Héloïse\n",
    "---\n",
    "\n"
   ],
   "cell_type": "markdown",
   "metadata": {}
  },
  {
   "source": [
    "## Problématisation et positionnement :\n",
    "Responsable de 29% $[1]$ des émissions de gaz à effet de serre en France, le secteur routier représente un véritable enjeu dans la transition écologique au cours des prochaines décennies. Dans une optique de réduction des rejets et de décarbonation du parc automobile, la stratégie gouvernementale actuelle consiste à progressivement diminuer la proportion des véhicules à essence pour atteindre les objectifs fixés comme l’arrêt de la vente des véhicules particuliers utilisant des énergies d’ici 2040 $[2]$.\n",
    "\n",
    "La promotion des véhicules électriques et à hydrogène au public sera donc primordiale pour justifier et aider le choix des futures voitures. Pour le consommateur, il est nécessaire de comparer les coûts de possession des différentes voitures proposées, c’est-à-dire évaluer le TCO (total cost of ownership) du véhicule. Enfin, avec cette donnée et des campagnes d’information, la transition sera rendue possible.\n",
    "\n",
    "Pour se faire, il convient d’identifier et quantifier les principales composantes du coût de possession d’un véhicule, discuter de la modifiabilité de ceux-ci compte tenu du client. En raison des différents usages, rural, urbain ou périurbain, le cycle de conduite varie et des profils de vitesse devront être réalisés. En s’appuyant sur des modèles de batterie ou de piles à combustible comme pour le véhicule hybride $[3]$, il est déjà possible de réduire ce TCO. Les dimensions et l’organisation des composants devront donc être adaptées à l’utilisation du véhicule.\n",
    "\n",
    "Finalement, afin de valider les projections par rapport aux attentes, l’impact environnemental des véhicules électriques devra être évalué. Pour se faire, nous devrons identifier et quantifier les principaux impacts environnementaux des différents types de véhicules, notamment en termes d’émissions de GES et d'usage de matériaux."
   ],
   "cell_type": "markdown",
   "metadata": {}
  },
  {
   "source": [
    "---\n",
    "## Tache 1 : Identifier et quantifier les principales composantes du coût de possession d'un véhicule\n",
    "---"
   ],
   "cell_type": "markdown",
   "metadata": {}
  },
  {
   "source": [
    "### Paramètres généraux à prendre en compte pour le calcul du TCO :\n",
    "- Le prix à l'achat du véhicule, dépendant de la taille du moteur, du type d'énergie utilisée, de la marque, ...\n",
    "- Les différents bonus/malus et primes : bonus écologiques, prime à la conversion (2000€ pour un passage de l'essence à l'électrique/hybride), aides gouvernementales, impôts sur les émissions, ...\n",
    "- Le coût de consommation et d'utilisation : entretien, prix du \"carburant\" à la pompe, ..\n",
    "\n",
    "#### Détails Prix à l'achat :\n",
    "- ESS (Energy Storage System) : Pack Batterie (BMS), Réservoir d'essence, Pile à combustible et réservoir d'Hydrogène\n",
    "- DT (Drive Train) : Pack moteur électrique, ICE (Internal Combustion Engine)\n",
    "- Composants autres : chassis, capôt, ... commun à toutes les voitures. En prenant la moyenne sur les 50 véhicules les plus vendus en France : 21k€.\n",
    "- Assurances\n",
    "- Boîte de vitesse (spécifique aux voitures thermiques), prix à différencier selon le gabarit. \n",
    "\n",
    "#### Les bonus/malus/primes :\n",
    "- Primes à la conversion : pour la première conversion d'essence à électrique (hybride ou 100%), aide de 2000 euros\n",
    "- Bonus écologique à l'achat : \n",
    "  - Pour une 100% électrique de prix à l'achat < 45 k€, 27% du coût d'acquisition TTC, avec plafond de 6 000 euros (à partir du 1er janvier 2021 , 7 000 euros actuellement)\n",
    "  - Pour une 100% électrique de prix à l'achat > 45 k€ et < 60 k€ : 3 000 euros. \n",
    "  - Pour une Hydrogène de prix à l'achat > 60 k€ : 3 000 euros. \n",
    "  - Pour une hybride rechargeable d'une autonomie supérieure à 50 km et dont le taux d'émission $\\in [\\;21 gCO_2$/km , $\\;50gCO_2$/km], et de prix < 50 k€ : 2 OOO euros.\n",
    "- Malus $CO_2$ à l'achat : il dépend de l'émission en $gCO_2$/km\n",
    "  - $<$ 109 $gCO_2$/km : 0 euros\n",
    "  - entre 109 et 173, au détail, avec de fortes augmentations.\n",
    "  - $>$ 173 $gCO_2$/km : 12 500 euros\n",
    "- Taxe $CO_2$ à l'achat pour les véhicules d'occasion : elle dépend de la puissance fiscale (ie le nombre de chevaux vapeur)\n",
    "  - $\\leqslant \\;$ 9 cv : O €\n",
    "  - 10-11 cv : 100 €\n",
    "  - 12-14 cv : 300 €\n",
    "  - $>$ 14 cv : 1000€\n",
    "- Malus annuel qui concerne les voitures polluants le plus (et anciennes), ie émission $>$ 190 g$CO_2$/km : 160 euros par an.\n",
    "- Malus poids : à venir d'ici 2021\n",
    "\n",
    "### Les coûts d'opération :\n",
    "- Carburant TTCC : \n",
    "  - Hydrogène : _prendre résultat groupe coût de l'hydrogène à la pompe_\n",
    "  - Electricité : _prendre résultat groupe coût de l'électricité_\n",
    "  - Sans Plomb (moyenne sur les 3 types le 20/11/2020) : 1,35€/L\n",
    "  - Gazole (le 20/11/2020 selon le site du gouvernement français) : 1,22€/L\n",
    "- Entretiens les plus récurrents, à savoir la vidange de la boite de vitesse, la courroie, les filtres, les freins, la climatisation, la batterie, les pneus, les amortisseurs et le contrôle technique. En €/10 000km :\n",
    "  - $H_2$ : Entre 413 et 706 \n",
    "  - Electrique : Entre 413 et 706\n",
    "  - Diesel : Entre 536 et 918\n",
    "  - Essence : Entre 536 et 913\n",
    "  - Hybride : Légèrement inférieur aux voitures thermiques $ \\rightarrow$ Entre 482 et 826 (en prenant une réduction de 10%)\n"
   ],
   "cell_type": "markdown",
   "metadata": {}
  },
  {
   "source": [
    "### Typologie des véhicules :\n",
    "\n",
    "#### ICEV : Internal Combustion Engine Vehicle\n",
    "- ESS : réservoir d'essence (~60 L pour une voiture moyenne)\n",
    "- DT : ICE\n",
    "- Consommation de gazole : $6L / 100km$\n",
    "- Emissions : $13.9 kg CO_{2eq} / 100km$ + particules fines\n",
    "\n",
    "#### HEV : Hybrid Electric Vehicle\n",
    "- ESS : battery (1-2 kWh) + réservoir d'essence\n",
    "- DT : ICE + moteur électrique (tailles variables en fonction du cycle de conduite)\n",
    "\n",
    "#### PHEV : Plug-in Hybrid Electric Vehicle\n",
    "- ESS : battery (5-20 kWh) + réservoir d'essence\n",
    "- DT : ICE + moteur électrique\n",
    "- Autre : V2G (Vehicle to grid)\n",
    "\n",
    "#### BEV : Battery Electric Vehicle / Vehicule 100% électrique\n",
    "- ESS : Pack battery dont BMS (Capacité : 25-100 kWh)\n",
    "- DT : Moteurs électrique et autres composants associés (buck)\n",
    "- production électricité : $56gCO_{2eq}/kWh$ (varie entre 45 et 65 selon les heures de pointes, voir https://www.rte-france.com/eco2mix)\n",
    "- Consommation :$ 15-20 kWh/ 100km$\n",
    "- émission $CO_2$ : $ 0.840-1,120 kgCO_{2eq}/100km$\n",
    "\n",
    "#### BEV with $H_2$ range extender\n",
    "- ESS : Réservoir à hydrogène + pile à combustible (P 5-20 kW) + battery (Capacité : 30-60 kWh)\n",
    "- DT : Moteur électrique et autres composants associés (buck) \n",
    "\n",
    "\n",
    "#### FCEV : Fuel Cell Electric Vehicle / Vehicule à Hydrogène (Pile à combustible)\n",
    "- ESS : Réservoir à hydrogène (4-6kg $H_2$) + pile à combustible (P > 80 kW) + battery (Capacité : 1-2 kWh)\n",
    "- DT : Moteur électrique et autres composants associés (buck)\n",
    "- production $H_2$ : $3.16 kgCO_{2eq}/kgH2$ (mix électrique en France moyen $56gCO_{2eq}/kWh$ )\n",
    "- Consommation : $1kgH_2 / 100km$\n",
    "- émission $CO_2$ : $3.16kgCO_{2eq}/100km$\n",
    "\n",
    "#### Fuel Cell Plug-in Hybrid Electric\n",
    "- ESS : Réservoir à hydrogène + pile à combustible (P > 50 kW) + battery (Capacité : 10-20 kWh)\n"
   ],
   "cell_type": "markdown",
   "metadata": {}
  },
  {
   "source": [
    "Base de donnée :\n",
    "- 1 Litre d'essence $\\rightarrow$ 9 kWh \n",
    "- 1 kg de H2 $\\rightarrow$ 35 kWH\n",
    "- 100 kg$_{Co_2}$/kWh$_{pack}$ : l'électricité qui rentre dans une batterie ressort avec un contenu $CO_2$ augmenté de \n",
    "  - 100 g$CO_2$/km si la batterie fait 1000 cycles\n",
    "  - 1000 g$CO_2$/km si la batterie fait 100 cycles\n",
    "- Chiffres CEA : \n",
    "  - pour des trajets cours ($<$50km) : Batterie 5-10 kWh ; 1 cycle/jour ; Recharge à 3kW suffit ; 70% du kilométrage\n",
    "  - pour des trajets longs ($>$50km) : Batterie 50 kWh mini ; Usage occasionnel ; Recharge rapide ; 30% du kilométrage\n"
   ],
   "cell_type": "markdown",
   "metadata": {}
  },
  {
   "source": [
    "---\n",
    "## Tache 2 : Identifier et quantifier les principaux impacts environnementaux des différents types de véhicules, notamment en termes d’émissions de GES et usage de matériaux.\n",
    "---"
   ],
   "cell_type": "markdown",
   "metadata": {}
  },
  {
   "source": [
    "On peut globalement observer 2 types d'impacts environnementaux :\n",
    "- coût de fabrication : impact environnemental de la fabrication des pièces de la voiture.\n",
    "- coût d'utilisation : impact environnemental du carburant (production et consommation) et de l'entretien.\n",
    "\n",
    "Les voitures thermiques et hybrides (sauf l'hybridation électrique/$H_2$)à cause de leurs carburants, émettent des GES tout au long de leur utilisation. Il y a donc un coût environnemental de fabrication et un coût environnemental d'utilisation.\n",
    "Les voitures à batteries n'émettent pas directement lors de leur utilisation. Mais elle ont tout de même un coût environnemental d'utilisation causé par la production électrique. Elles ont un coût environnemental de fabrication accru du fait de la présence de batteries constituées de métaux rares qu'il faut extraire.\n",
    "Comme les voitures à batteries, les voitures à hydrogène n'émettent pas directement lors de l'utilisation et leur coût environnemental d'utilisation provient de la fabrication de l'hydrogène qui aujourd'hui est majoritairement issu de sources fossiles. L'hydrogène peut aussi être produit par électrolyse et il faut à ce moment là considérer l'impact environnemental de l'électricité utilisée. Cependant, un avantage des voitures à hydrogène (FCEV) par rapport aux voitures électriques (BEV) est qu'il n'y a pas de batteries, entrenant une diminution du coût environnemental de fabrication.\n",
    "\n",
    "### Coût environnemental de fabrication :\n",
    "Production de la batterie : 60-70 kg$CO_2$eq/kWh.\n",
    "\n",
    "\n",
    "### Coût environemental d'utilisation :\n",
    "\n",
    "\n",
    "\n",
    "### Usage de matériaux : \n",
    "La catégorie de batterie NMC représente 80% des batteries utilisées.\n",
    "\n",
    "$$\n",
    "\\begin{array}{c|lcr}\n",
    "X & \\text{g de Ni} & \\text{g de Mn} & \\text{g de Co} & \\text{g de Li} & \\text{g de graphite} & \\text{g de F} & \\text{g de Cu} & \\text{g de Al} \\\\\n",
    "\\hline\n",
    "NMC 622 & 366 & 333 & 357 & 127 & x & x & x & x  \\\\\n",
    "\\hline\n",
    "NMC 622 & 578 & 180 & 193 & 114 & x & x & x & x  \\\\\n",
    "\\hline\n",
    "NMC 811 & 652 & 76 & 82 & 96 & x & x & x & x  \\\\\n",
    "\\hline\n",
    "NMC 90/5/5 & 698 & 36 & 39 & 92 & 925 & 55-130 & 600-2700 & 400-700 \\\\\n",
    "\\hline\n",
    "\\end{array}\n",
    "$$\n"
   ],
   "cell_type": "markdown",
   "metadata": {}
  },
  {
   "source": [],
   "cell_type": "markdown",
   "metadata": {}
  },
  {
   "source": [
    "---\n",
    "## Tache 3 : Identifier des cas d’usage type (urbain, périurbain, rural, recharge domestique/publique) et proposer une représentation en termes de profil d’utilisation (profils de vitesse, fréquence et puissance de recharge). \n",
    "---"
   ],
   "cell_type": "markdown",
   "metadata": {}
  },
  {
   "source": [
    "Usage n°1 : citadin lambda, trajets quotidiens type maison-travail mais moins de 1h.\n",
    "Nécessité de changer de véhicules car interdiction des diesels puis essence dans ces villes\n",
    "(Londres,Paris...)\n",
    "\n",
    "Enjeu = possibilité de recharger la batterie sans faire rentrer la voiture dans la maison.\n",
    "\n",
    "Avantage de l'essence = réservoir donc le plein est fait une fois tous les 600-700 km et c'est fini.\n",
    "\n",
    "  1. Voiture électrique : idée que voiture électrique est comme smartphone : doit se recharger\n",
    "tous les soirs. Grandes villes : impossibilité de la relier au réseau électrique => super-chargeur ? Ou\n",
    "infrastructure parking ?\n",
    "\n",
    "  Il existe des bornes de recharge de voitures dans les grandes villes.\n",
    "\n",
    "  Par exemple à Paris : 1000 bornes de recharge accessibles avec un abonnement de 120€/an (très très très\n",
    "largement inférieur à prix de l'essence?). Mais attendre 2heures pour 1 recharge ??\n",
    "\n",
    "  Ordre des grandeurs des km parcourus :\n",
    "Aller/Retour travail maison + déplacement journaliers-30km/jour pendant 10 mois. (5*40 semaines)\n",
    "1 départ en vacance = 500km\n",
    "=> 30*5*40 + 500 = 6500 km, largement atteignable avec l'électrique voire H2 ?\n",
    "\n",
    "  Donc Voiture Electrique envisageable.\n",
    "\n",
    "  Vitesse moyenne en ville = Périph : 40km/h. Sinon en ville, 20 km/h. Beaucoup de\n",
    "démarrages/redémarrages donc bénéfique pour l'élec.\n",
    "\n",
    "  Autonomie moyenne des batteries = raisonnement avec une voiture sur le marché, la Zoé.\n",
    "\n",
    "  Autonomie de 210 km environ donc 1 recharge par semaine (ordre de grandeur) => 50 recharges par an.\n",
    "\n",
    "  Capacité de la batterie = 52 kWh. Pour une borne à la pointe technologie (en ville) : 50kW => une heure\n",
    "de recharge (comparé à 1 minute voiture).\n",
    "\n",
    "  Coût d'1 recharge (Pass Izivia) : environ 10€. Donc 500€ par an. (comparé à plus de 1000€ pour essence).\n",
    "= 7 centimes/km.\n",
    "\n",
    "  2. Voiture à essence : Impossible car interdit ahah !\n",
    "\n",
    "  3. Le vélo ? Hors du cadre de l'étude !\n",
    "\n",
    "  4. Véhicule à hydrogène = reprendre les mêmes calculs avec remplacement des bonbonnes de H2.\n",
    "Compliqué car 1 seule station/grande ville. Ajd coût incalculable mais dans 5 ans – sous certaines\n",
    "hyp des autres projets, TCO réalisable.\n",
    "\n",
    "Usage n°2 : Banlieue, travail à plus d'1 heure. ( > 100km par jour).\n",
    "\n",
    "On arrive par les mêmes calculs à 20 000km/an. Avec un plein par semaine (ou une recharge par jour).\n",
    "\n",
    "  1. Voiture électrique : On peut brancher la voiture sur le réseau de la maison.\n",
    "Prix moyen du kWh : 0,1765 €, à raison de 40 kWh / jour :\n",
    "Prix de l'elec = 0.1765 *40* 5 * 40 = 1412€, assez cher mais si 60L d'essence = 800km, alors on a 25\n",
    "pleins d'essences par an, 1 plein = 100€ => 2000 à 2500 €/an en essence.\n",
    "Ok moins cher électrique.\n",
    "Voiture la + conseillée Tesla/grosse batterie. Le prix peut baisser avec les super-charger (calcul à refaire\n",
    "mais aussi hausse du prix initial de la voiture).\n",
    "  \n",
    "  2. Voiture à essence : tend à disparaître, calcul de consommation déjà fait.\n",
    " \n",
    "  3. Voiture à hydrogène ? Même Pb que ville mais plus accentué.\n",
    "245 TW/an = la moitié de production d'élec."
   ],
   "cell_type": "markdown",
   "metadata": {}
  },
  {
   "source": [
    "---\n",
    "## Tache 4 : Proposer une méthode pour dimensionner les différentes composantes du système (la batterie, la pile à combustible, le réservoir d’hydrogène) et fonction des spécifications et du cycle de conduite.  \n",
    "---"
   ],
   "cell_type": "markdown",
   "metadata": {}
  },
  {
   "source": [
    "Cf bibliographie Sizing"
   ],
   "cell_type": "markdown",
   "metadata": {}
  },
  {
   "source": [
    "---\n",
    "## Bibliographie \n",
    "---\n",
    "\n",
    "$[1]$ https://www.ecologie.gouv.fr/sites/default/files/20201011_DP_CCC_V16_compressed_compressed.pdf (à mettre en forme…)\n",
    "\n",
    "$[2]$ https://www.ecologie.gouv.fr/sites/default/files/20201011_DP_CCC_V16_compressed_compressed.pdf\n",
    "\n",
    "$[3]$ https://www.sciencedirect.com/science/article/pii/S2405896315019345 \n"
   ],
   "cell_type": "markdown",
   "metadata": {}
  }
 ]
}