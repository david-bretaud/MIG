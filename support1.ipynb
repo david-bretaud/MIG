{
 "metadata": {
  "language_info": {
   "codemirror_mode": {
    "name": "ipython",
    "version": 3
   },
   "file_extension": ".py",
   "mimetype": "text/x-python",
   "name": "python",
   "nbconvert_exporter": "python",
   "pygments_lexer": "ipython3",
   "version": 3
  },
  "orig_nbformat": 2
 },
 "nbformat": 4,
 "nbformat_minor": 2,
 "cells": [
  {
   "source": [
    "# MIG ALEF : Mobilités électrique\n",
    "---\n",
    "# Groupe 1 : Véhicule _ Calcul du TCO et des impacts environnementaux d'une voiture\n",
    "## Antoine, David, Paul, Quentin, Raphaël, Pedro et Héloïse\n",
    "---\n",
    "\n"
   ],
   "cell_type": "markdown",
   "metadata": {}
  },
  {
   "source": [
    "## Problématisation et positionnement :\n",
    "Responsable de 29% $[1]$ des émissions de gaz à effet de serre en France, le secteur routier représente un véritable enjeu dans la transition écologique au cours des prochaines décennies. Dans une optique de réduction des rejets et de décarbonation du parc automobile, la stratégie gouvernementale actuelle consiste à progressivement diminuer la proportion des véhicules à essence pour atteindre les objectifs fixés comme l’arrêt de la vente des véhicules particuliers utilisant des énergies d’ici 2040 $[2]$.\n",
    "\n",
    "La promotion des véhicules électriques et à hydrogène au public sera donc primordiale pour justifier et aider le choix des futures voitures. Pour le consommateur, il est nécessaire de comparer les coûts de possession des différentes voitures proposées, c’est-à-dire évaluer le TCO (total cost of ownership) du véhicule. Enfin, avec cette donnée et des campagnes d’information, la transition sera rendue possible.\n",
    "\n",
    "Pour se faire, il convient d’identifier et quantifier les principales composantes du coût de possession d’un véhicule, discuter de la modifiabilité de ceux-ci compte tenu du client. En raison des différents usages, rural, urbain ou périurbain, le cycle de conduite varie et des profils de vitesse devront être réalisés. En s’appuyant sur des modèles de batterie ou de piles à combustible comme pour le véhicule hybride $[3]$, il est déjà possible de réduire ce TCO. Les dimensions et l’organisation des composants devront donc être adaptées à l’utilisation du véhicule.\n",
    "\n",
    "Finalement, afin de valider les projections par rapport aux attentes, l’impact environnemental des véhicules électriques devra être évalué. Pour se faire, nous devrons identifier et quantifier les principaux impacts environnementaux des différents types de véhicules, notamment en termes d’émissions de GES et d'usage de matériaux."
   ],
   "cell_type": "markdown",
   "metadata": {}
  },
  {
   "source": [
    "---\n",
    "## Tache 1 : Identifier et quantifier les principales composantes du coût de possession d'un véhicule\n",
    "---"
   ],
   "cell_type": "markdown",
   "metadata": {}
  },
  {
   "source": [
    "### Paramètres généraux à prendre en compte pour le calcul du TCO :\n",
    "- Le prix à l'achat du véhicule, dépendant de la taille du moteur, du type d'énergie utilisée, de la marque, ...\n",
    "- Les différents bonus/malus et primes : bonus écologiques, prime à la conversion (2000€ pour un passage de l'essence à l'électrique/hybride), aides gouvernementales, impôts sur les émissions, ...\n",
    "- Le coût de consommation et d'utilisation : entretien, prix du \"carburant\" à la pompe, ..\n",
    "\n",
    "#### Détails Prix à l'achat :\n",
    "- ESS (Energy Storage System) : Pack Batterie (BMS), Réservoir d'essence, Pile à combustible et réservoir d'Hydrogène\n",
    "- DT (Drive Train) : Pack moteur électrique, ICE (Internal Combustion Engine)\n",
    "- Composants autres : chassis, capôt, ... commun à toutes les voitures. En prenant la moyenne sur les 50 véhicules les plus vendus en France : 21k€.\n",
    "- Assurances ? \n",
    "\n",
    "#### Les bonus/malus/primes :\n",
    "- Primes à la conversion : pour la première conversion d'essence à électrique (hybride ou 100%), aide de 2000 euros\n",
    "- Bonus écologique à l'achat : \n",
    "  - Pour une 100% électrique de prix à l'achat < 45 k€, à partir du 1er janvier 2021 : 7 000 euros (6 000 euros actuellement)\n",
    "  - Pour une 100% électrique de prix à l'achat > 45 k€ et < 60 k€ : 3 000 euros. \n",
    "  - Pour une Hydrogène de prix à l'achat > 60 k€ : 3 000 euros. \n",
    "  - Pour une hybride rechargeable d'une autonomie supérieure à 50 km et dont le taux d'émission $\\in [\\;21 gCO_2$/km , $\\;50gCO_2$/km], et de prix < 50 k€ : 2 OOO euros.\n",
    "- Malus $CO_2$ à l'achat : il dépend de l'émission en $gCO_2$/km\n",
    "  -  $<$ 109 $gCO_2$/km : 0 euros\n",
    "  - 110 $gCO_2$/km : 50 euros \n",
    "  - 120 $gCO_2$/km : 260 euros\n",
    "  -  $>$ 173 $gCO_2$/km : 12 500 euros\n",
    "- Taxe $CO_2$ à l'achat pour les véhicules d'occasion : elle dépend de la puissance fiscale (ie le nombre de chevaux vapeur)\n",
    "  - $\\leqslant \\;$ 9 cp : O €\n",
    "  - 10-11 cp : 100 €\n",
    "  - 12-14 cp : 300 €\n",
    "  - $>$ 14 cp : 1000€\n",
    "- Malus annuel qui dépend de la première année d'immatriculation de la voiture : 160 €/an (350€ pour la Zoé )\n",
    "- Malus poids : à venir d'ici 2021\n",
    "\n",
    "### Les coûts d'opération :\n",
    "- Carburant TTCC : \n",
    "  - Hydrogène : _prendre résultat groupe coût de l'hydrogène à la pompe_\n",
    "  - Electricité : _prendre résultat groupe coût de l'électricité_\n",
    "  - Sans Plomb (moyenne sur les 3 types le 20/11/2020) : 1,35€/L\n",
    "  - Gazole (le 20/11/2020 selon le site du gouvernement français) : 1,22€/L\n",
    "- Entretien en €/10 000km :\n",
    "  - $H_2$ : Entre 413 et 706 \n",
    "  - Electrique : Entre 413 et 706\n",
    "  - Diesel : Entre 536 et 918\n",
    "  - Essence : Entre 536 et 913\n",
    "  - Hybride : Légèrement inférieur aux voitures thermiques $ \\rightarrow$ Entre 482 et 826 (en prenant une réduction de 10%)\n"
   ],
   "cell_type": "markdown",
   "metadata": {}
  },
  {
   "source": [
    "### Typologie des véhicules :\n",
    "\n",
    "#### ICEV : Internal Combustion Engine Vehicle\n",
    "- ESS : réservoir d'essence (~60 L pour une voiture moyenne)\n",
    "- DT : ICE \n",
    "- Consommation de gazole : 6L / 100km\n",
    "- Emissions : 13.9 kg $CO_{2eq}$ / 100km + particules fines\n",
    "\n",
    "#### HEV : Hybrid Electric Vehicle\n",
    "- ESS : battery (1-2 kWh) + réservoir d'essence\n",
    "- DT : ICE + moteur électrique (tailles variables en fonction du cycle de conduite)\n",
    "\n",
    "#### PHEV : Plug-in Hybrid Electric Vehicle \n",
    "- ESS : battery (5-20 kWh) + réservoir d'essence\n",
    "- DT : ICE + moteur électrique\n",
    "- Autre : V2G (Vehicle to grid)\n",
    "\n",
    "#### BEV : Battery Electric Vehicle / Vehicule 100% électrique\n",
    "- ESS : Pack battery dont BMS (Capacité : 25-100 kWh)\n",
    "- DT : Moteurs électrique et autres composants associés (buck)\n",
    "- Consommation : 15-20 kWh/ 100km\n",
    "\n",
    "#### BEV with $H_2$ range extender \n",
    "- ESS : Réservoir à hydrogène + pile à combustible (P 5-20 - DT : Moteur électrique et autres composants associés (buck)kW) + battery (Capacité : 30-60 kWh)\n",
    "\n",
    "\n",
    "#### FCEV : Fuel Cell Electric Vehicle / Vehicule à Hydrogène (Pile à combustible)\n",
    "- ESS : Réservoir à hydrogène (4-6kg $H_2$) + pile à combustible (P > 80 kW) + battery (Capacité : 1-2 kWh)\n",
    "- DT : Moteur électrique et autres composants associés (buck)\n",
    "- Consommation : 1kg$H_2$ / 100km\n",
    "\n",
    "#### Fuel Cell Plug-in Hybrid Electric \n",
    "- ESS : Réservoir à hydrogène + pile à combustible (P > 50 kW) + battery (Capacité : 10-20 kWh)\n",
    "\n",
    "\n"
   ],
   "cell_type": "markdown",
   "metadata": {}
  },
  {
   "source": [
    "Base de donnée :\n",
    "- 1 Litre d'essence $\\rightarrow$ 9 kWh \n",
    "- 1 kg de H2 $\\rightarrow$ 35 kWH\n"
   ],
   "cell_type": "markdown",
   "metadata": {}
  },
  {
   "source": [
    "---\n",
    "## Tache 2 : Identifier et quantifier les principaux impacts environnementaux des différents types de véhicules, notamment en termes d’émissions de GES et usage de matériaux.\n",
    "---"
   ],
   "cell_type": "markdown",
   "metadata": {}
  },
  {
   "source": [
    "---\n",
    "## Tache 3 : Identifier des cas d’usage type (urbain, périurbain, rural, recharge domestique/publique) et proposer une représentation en termes de profil d’utilisation (profils de vitesse, fréquence et puissance de recharge). \n",
    "---"
   ],
   "cell_type": "markdown",
   "metadata": {}
  },
  {
   "source": [
    "---\n",
    "## Tache 4 : Proposer une méthode pour dimensionner les différentes composantes du système (la batterie, la pile à combustible, le réservoir d’hydrogène) et fonction des spécifications et du cycle de conduite.  \n",
    "---"
   ],
   "cell_type": "markdown",
   "metadata": {}
  },
  {
   "source": [],
   "cell_type": "markdown",
   "metadata": {}
  },
  {
   "source": [
    "---\n",
    "## Bibliographie \n",
    "---\n",
    "\n",
    "$[1]$ https://www.ecologie.gouv.fr/sites/default/files/20201011_DP_CCC_V16_compressed_compressed.pdf (à mettre en forme…)\n",
    "\n",
    "$[2]$ https://www.ecologie.gouv.fr/sites/default/files/20201011_DP_CCC_V16_compressed_compressed.pdf\n",
    "\n",
    "$[3]$ https://www.sciencedirect.com/science/article/pii/S2405896315019345 \n"
   ],
   "cell_type": "markdown",
   "metadata": {}
  }
 ]
}